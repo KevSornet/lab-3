{
 "cells": [
  {
   "cell_type": "markdown",
   "metadata": {},
   "source": [
    "# Student Details\n",
    "\n",
    "* ID Number: 204791\n",
    "* Surname: Sornet\n",
    "* Year and Course: 2 BS ITE"
   ]
  },
  {
   "cell_type": "markdown",
   "metadata": {},
   "source": [
    "# Problem 1\n",
    "\n",
    "## Caesar Cipher\n",
    "\n",
    "## Write a function called problem_1 that takes two positional arguments message and shift. It should apply the Caesar cipher to a message and return the result.\n",
    "\n",
    "* For full credit:\n",
    "\n",
    "1. The function must ignore spaces.\n",
    "\n",
    "2. The function must be able to \"wrap around\" if it reaches the end of the alphabet. (e.g., shifting Z by 1 should result in A, shifting Z by 2 should result in B, etc.)\n",
    "\n",
    "* For your convenience:\n",
    "\n",
    "1. Assume that all letters will be uppercase.\n",
    "\n",
    "2. Be aware of the chr() function. chr() takes an Unicode code number and returns the character associated with that number (e.g., chr(65) => \"A\").\n",
    "\n",
    "3. Be aware of the ord() function. ord() takes a Unicode character and returns the Unicode code associated with that character (e.g., ord(\"A\") => 65).\n",
    "\n",
    "4. Be aware that the Unicode codes of the uppercase English alphabet are Unicode codes 65 to 90, where 65 = A, 66 = B, ..., 90 = Z.\n",
    "\n",
    "5. The shift will always be a positive integer."
   ]
  },
  {
   "cell_type": "code",
   "execution_count": 47,
   "metadata": {},
   "outputs": [
    {
     "name": "stdout",
     "output_type": "stream",
     "text": [
      "ABCDEFGHIJKLMNOPQRSTUVWXYZ\n",
      "1\n",
      "BCDEFGHIJKLMNOPQRSTUVWXYZA\n"
     ]
    }
   ],
   "source": [
    "def problem_1 (message, shift):\n",
    "    new = (\"\")\n",
    "    for i in message:\n",
    "        if ord(i) == 32:\n",
    "            new += chr(ord(i))\n",
    "        elif ord(i) < 90:\n",
    "            new += chr(ord(i) + shift)\n",
    "        elif ord(i) == 90:\n",
    "            new += chr(ord('@') + shift)\n",
    "            \n",
    "    values = \"\".join(str(new))\n",
    "    print(values)\n",
    "    \n",
    "message = input()\n",
    "shift = int(input())\n",
    "\n",
    "problem_1 (message, shift)"
   ]
  },
  {
   "cell_type": "markdown",
   "metadata": {},
   "source": [
    "# Problem 2\n",
    "\n",
    "## Social Media Relationships\n",
    "\n",
    "## Write a function called relationship_status that takes three positional arguments: (str) from_member, (str) to_member, and (dict) social_graph. The function should determine the relationship status of the first member to the second member based on the data stored in the social graph. The function should return one of these values depending on what is appropriate:\n",
    "\n"
   ]
  }
 ],
 "metadata": {
  "kernelspec": {
   "display_name": "Python 3",
   "language": "python",
   "name": "python3"
  },
  "language_info": {
   "codemirror_mode": {
    "name": "ipython",
    "version": 3
   },
   "file_extension": ".py",
   "mimetype": "text/x-python",
   "name": "python",
   "nbconvert_exporter": "python",
   "pygments_lexer": "ipython3",
   "version": "3.8.5"
  }
 },
 "nbformat": 4,
 "nbformat_minor": 4
}
