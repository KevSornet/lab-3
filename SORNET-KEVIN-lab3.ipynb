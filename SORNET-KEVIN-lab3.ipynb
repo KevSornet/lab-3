{
 "cells": [
  {
   "cell_type": "markdown",
   "metadata": {},
   "source": [
    "# Student Details\n",
    "\n",
    "* ID Number: 204791\n",
    "* Surname: Sornet\n",
    "* Year and Course: 2 BS ITE"
   ]
  },
  {
   "cell_type": "markdown",
   "metadata": {},
   "source": [
    "# Problem 1\n",
    "\n",
    "## Caesar Cipher\n",
    "\n",
    "## Write a function called problem_1 that takes two positional arguments message and shift. It should apply the Caesar cipher to a message and return the result.\n",
    "\n",
    "* For full credit:\n",
    "\n",
    "1. The function must ignore spaces.\n",
    "\n",
    "2. The function must be able to \"wrap around\" if it reaches the end of the alphabet. (e.g., shifting Z by 1 should result in A, shifting Z by 2 should result in B, etc.)\n",
    "\n",
    "* For your convenience:\n",
    "\n",
    "1. Assume that all letters will be uppercase.\n",
    "\n",
    "2. Be aware of the chr() function. chr() takes an Unicode code number and returns the character associated with that number (e.g., chr(65) => \"A\").\n",
    "\n",
    "3. Be aware of the ord() function. ord() takes a Unicode character and returns the Unicode code associated with that character (e.g., ord(\"A\") => 65).\n",
    "\n",
    "4. Be aware that the Unicode codes of the uppercase English alphabet are Unicode codes 65 to 90, where 65 = A, 66 = B, ..., 90 = Z.\n",
    "\n",
    "5. The shift will always be a positive integer."
   ]
  },
  {
   "cell_type": "code",
   "execution_count": 1,
   "metadata": {},
   "outputs": [
    {
     "name": "stdout",
     "output_type": "stream",
     "text": [
      "ABC DEF GHI JKL MNO PQR STU VWX Y Z\n",
      "1\n"
     ]
    },
    {
     "data": {
      "text/plain": [
       "'BCD EFG HIJ KLM NOP QRS TUV WXY Z A'"
      ]
     },
     "execution_count": 1,
     "metadata": {},
     "output_type": "execute_result"
    }
   ],
   "source": [
    "def problem_1 (message, shift):\n",
    "    new = (\"\")\n",
    "    for i in message:\n",
    "        if ord(i) == 32:\n",
    "            new += chr(ord(i))\n",
    "        elif ord(i) < 90:\n",
    "            new += chr(ord(i) + shift)\n",
    "        elif ord(i) == 90:\n",
    "            new += chr(ord('@') + shift)\n",
    "            \n",
    "    values = \"\".join(str(new))\n",
    "    return(values)\n",
    "    \n",
    "message = input()\n",
    "shift = int(input())\n",
    "\n",
    "problem_1 (message, shift)"
   ]
  },
  {
   "cell_type": "markdown",
   "metadata": {},
   "source": [
    "# Problem 2\n",
    "\n",
    "## Social Media Relationships\n",
    "\n",
    "## Write a function called relationship_status that takes three positional arguments: (str) from_member, (str) to_member, and (dict) social_graph. The function should determine the relationship status of the first member to the second member based on the data stored in the social graph. The function should return one of these values depending on what is appropriate:\n",
    "\n"
   ]
  },
  {
   "cell_type": "code",
   "execution_count": 2,
   "metadata": {
    "scrolled": false
   },
   "outputs": [
    {
     "name": "stdout",
     "output_type": "stream",
     "text": [
      "@kevin\n",
      "@bea\n"
     ]
    },
    {
     "data": {
      "text/plain": [
       "'followed by'"
      ]
     },
     "execution_count": 2,
     "metadata": {},
     "output_type": "execute_result"
    }
   ],
   "source": [
    "social_graph = {\n",
    "    \"@kevin\":{\"following\":[\"@mal\", \"@lucas\", \"@aids\"]},\n",
    "    \"@mal\":{\"following\":[\"@lucas\", \"@aids\"]},\n",
    "    \"@lucas\":{\"following\":[\"@mal\", \"@kevin\", \"@aids\"]},\n",
    "    \"@aids\":{\"following\":[\"@mal\"]},\n",
    "    \"@jung\":{\"following\":[\"@bea\",\"@jules\",\"@aids\"]},\n",
    "    \"@bea\":{\"following\":[\"@jung\",\"@mal\",\"@kevin\"]},\n",
    "    \"@jules\":{\"following\":[\"@kevin\",\"@lucas\",\"@aids\",\"@jung\",\"@bea\"]},\n",
    "    }\n",
    "\n",
    "def relationship_status (from_member, to_member):\n",
    "    first_friends = social_graph[from_member][\"following\"]\n",
    "    second_friends = social_graph[to_member][\"following\"]\n",
    "    \n",
    "    if any(from_member in i for i in second_friends) and any(to_member in i for i in first_friends):\n",
    "        relationship_status = \"friends\"\n",
    "        return relationship_status\n",
    "    elif any(to_member in i for i in first_friends):\n",
    "        relationship_status = \"follower\"\n",
    "        return relationship_status\n",
    "    elif any(from_member in i for i in second_friends):\n",
    "        relationship_status = \"followed by\"\n",
    "        return relationship_status\n",
    "    else:\n",
    "        relationship_status = \"None\"\n",
    "        return relationship_status\n",
    "    \n",
    "from_member = input()\n",
    "to_member = input()\n",
    "\n",
    "relationship_status (from_member, to_member)"
   ]
  },
  {
   "cell_type": "markdown",
   "metadata": {},
   "source": [
    "# Problem 3\n",
    "\n",
    "## Tic Tac Toe\n",
    "\n",
    "## Write a function called tic_tac_toe that takes one positional argument (list) board. The function should return the winner of the board if there is one, and it should return None if there is no winner on the board.\n",
    "\n"
   ]
  },
  {
   "cell_type": "code",
   "execution_count": 27,
   "metadata": {
    "scrolled": false
   },
   "outputs": [
    {
     "data": {
      "text/plain": [
       "['g', 'e', 'c']"
      ]
     },
     "execution_count": 27,
     "metadata": {},
     "output_type": "execute_result"
    }
   ],
   "source": [
    "# positions\n",
    "game_position = [['a','b','c'],\n",
    "                  ['d','e','f'],\n",
    "                  ['g','h','i']\n",
    "                 ]\n",
    "# top row\n",
    "game_position[0]\n",
    "\n",
    "# middle row\n",
    "game_position[1]\n",
    "\n",
    "# bottom row\n",
    "game_position[2]\n",
    "\n",
    "# left column\n",
    "[i[0] for i in game_position]\n",
    "\n",
    "# middle column\n",
    "[i[1] for i in game_position]\n",
    "\n",
    "# right column\n",
    "[i[2] for i in game_position]\n",
    "\n",
    "# diagonal 1\n",
    "[game_position[i][i] for i in range(3)]\n",
    "\n",
    "# diagonal 2\n",
    "[game_position[3-1-i][i] for i in range(3)]"
   ]
  },
  {
   "cell_type": "code",
   "execution_count": 28,
   "metadata": {},
   "outputs": [
    {
     "name": "stdout",
     "output_type": "stream",
     "text": [
      "5\n",
      "['X', 'X', 'O']\n",
      "['O', 'X', 'O']\n",
      "['X', '', 'O']\n"
     ]
    },
    {
     "data": {
      "text/plain": [
       "'O wins'"
      ]
     },
     "execution_count": 28,
     "metadata": {},
     "output_type": "execute_result"
    }
   ],
   "source": [
    "board1 = [\n",
    "['X','X','O'],\n",
    "['O','X','O'],\n",
    "['O','','X'],\n",
    "]\n",
    "\n",
    "board2 = [\n",
    "['X','X','O'],\n",
    "['O','X','O'],\n",
    "['','O','X'],\n",
    "]\n",
    "\n",
    "board3 = [\n",
    "['O','X','O'],\n",
    "['','O','X'],\n",
    "['X','X','O'],\n",
    "]\n",
    "\n",
    "board4 = [\n",
    "['X','X','X'],\n",
    "['O','X','O'],\n",
    "['O','','O'],\n",
    "]\n",
    "\n",
    "board5 = [\n",
    "['X','X','O'],\n",
    "['O','X','O'],\n",
    "['X','','O'],\n",
    "]\n",
    "\n",
    "board6 = [\n",
    "['X','X','O'],\n",
    "['O','X','O'],\n",
    "['X','',''],\n",
    "]\n",
    "\n",
    "board = [board1,board2,board3,board4,board5,board6]\n",
    "\n",
    "def tic_tac_toe (board):\n",
    "    board_number = board[int(number)-1]\n",
    "    win_x  = ['X', 'X', 'X']\n",
    "    win_o = ['O', 'O', 'O']\n",
    "    \n",
    "    for i in range(len(board_number)):\n",
    "        print(board_number[i])\n",
    "        \n",
    "    # top row\n",
    "    if board_number[0] == win_x:\n",
    "        return \"X wins\"\n",
    "    elif board_number[0] == win_o:\n",
    "        return \"O wins\"\n",
    "    \n",
    "    # middle row\n",
    "    elif board_number[1] == win_x:\n",
    "        return \"X wins\"\n",
    "    elif board_number[1] == win_o:\n",
    "        return \"O wins\"\n",
    "\n",
    "    # bottom row\n",
    "    elif board_number[2] == win_x:\n",
    "        return \"X wins\"\n",
    "    elif board_number[2] == win_o:\n",
    "        return \"O wins\"\n",
    "    \n",
    "    # left column\n",
    "    elif [i[0] for i in board_number] == win_x:\n",
    "        return \"X wins\"\n",
    "    elif [i[0] for i in board_number] == win_o:\n",
    "        return \"O wins\"\n",
    "    \n",
    "    # middle column\n",
    "    elif [i[1] for i in board_number] == win_x:\n",
    "        return \"X wins\"\n",
    "    elif [i[1] for i in board_number] == win_o:\n",
    "        return \"O wins\"\n",
    "    \n",
    "    # right column\n",
    "    elif [i[2] for i in board_number] == win_x:\n",
    "        return \"X wins\"\n",
    "    elif [i[2] for i in board_number] == win_o:\n",
    "        return \"O wins\"\n",
    "    \n",
    "    # diagonal 1\n",
    "    elif [board_number[i][i] for i in range(3)] == win_x:\n",
    "        return \"X wins\"\n",
    "    elif [board_number[i][i] for i in range(3)] == win_o:\n",
    "        return \"O wins\"\n",
    "    \n",
    "    # diagonal 2\n",
    "    elif [board_number[3-1-i][i] for i in range(3)] == win_x:\n",
    "        return \"X wins\"\n",
    "    elif [board_number[3-1-i][i] for i in range(3)] == win_o:\n",
    "        return \"O wins\"\n",
    "    \n",
    "    # no winner\n",
    "    else:\n",
    "        return \"no winner\"\n",
    "\n",
    "number = input()\n",
    "\n",
    "tic_tac_toe (board)"
   ]
  },
  {
   "cell_type": "markdown",
   "metadata": {},
   "source": [
    "# Problem 4\n",
    "\n",
    "## Routing\n",
    "\n",
    "## Write a function called eta that takes three positional arguments: (dict) legs, (str) source, and (str) destination. The function should return the estimated number of minutes it will take to reach the destination from the source based on the data stored in the legs dictionary.\n",
    "\n",
    "\n"
   ]
  },
  {
   "cell_type": "code",
   "execution_count": null,
   "metadata": {},
   "outputs": [],
   "source": [
    "def eta (legs, source, destination):\n",
    "    return\n"
   ]
  }
 ],
 "metadata": {
  "kernelspec": {
   "display_name": "Python 3",
   "language": "python",
   "name": "python3"
  },
  "language_info": {
   "codemirror_mode": {
    "name": "ipython",
    "version": 3
   },
   "file_extension": ".py",
   "mimetype": "text/x-python",
   "name": "python",
   "nbconvert_exporter": "python",
   "pygments_lexer": "ipython3",
   "version": "3.8.5"
  }
 },
 "nbformat": 4,
 "nbformat_minor": 4
}
